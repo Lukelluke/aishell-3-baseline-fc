{
 "cells": [
  {
   "cell_type": "code",
   "execution_count": null,
   "metadata": {},
   "outputs": [],
   "source": [
    "from feedback_synthesizer.inference import Synthesizer\n",
    "from IPython.display import Audio\n",
    "import tensorflow as tf\n",
    "import os\n",
    "import numpy as np\n",
    "from pathlib import Path\n",
    "import librosa\n",
    "import random\n",
    "from tqdm import tqdm\n",
    "from vocoder.inference import load_model, infer_waveform\n",
    "\n",
    "os.environ['CUDA_VISIBLE_DEVICES']='1'"
   ]
  },
  {
   "cell_type": "code",
   "execution_count": null,
   "metadata": {},
   "outputs": [],
   "source": [
    "wavrnn = load_model('vocoder/saved_models/vctk/vctk.pt')"
   ]
  },
  {
   "cell_type": "code",
   "execution_count": null,
   "metadata": {},
   "outputs": [],
   "source": [
    "Synthesizer.hparams.tacotron_num_gpus = 1\n",
    "Synthesizer.hparams.postnet_num_layers = 5\n",
    "Synthesizer.hparams.outputs_per_step=2\n",
    "\n",
    "checkpoints_dir = 'feedback_synthesizer/saved_models/logs-vctk/taco_pretrained/'\n",
    "checkpoints_dir = Path(checkpoints_dir)\n",
    "synthesizer=Synthesizer(checkpoints_dir,low_mem=False)"
   ]
  },
  {
   "cell_type": "code",
   "execution_count": null,
   "metadata": {},
   "outputs": [],
   "source": [
    "texts=['There were many editions of these works still being used in the nineteenth century.']\n",
    "\n",
    "# validation set: p260_006 p260_004\n",
    "# test set: p340_006 p231_010\n",
    "name = 'p340_006' \n",
    "\n",
    "embed=np.load('datasets/vctk/synthesizer/embeds/embed-' + name + '.npy')\n",
    "embeds = np.stack([embed] * len(texts))\n",
    "specs = synthesizer.synthesize_spectrograms(texts, embeds)\n",
    "breaks = [spec.shape[1] for spec in specs]\n",
    "\n",
    "spec = np.concatenate(specs, axis=1)\n",
    "\n",
    "assert spec is not None\n",
    "\n",
    "wav = Synthesizer.griffin_lim(spec)"
   ]
  },
  {
   "cell_type": "code",
   "execution_count": null,
   "metadata": {},
   "outputs": [],
   "source": [
    "b_ends = np.cumsum(np.array(breaks) * Synthesizer.hparams.hop_size)\n",
    "b_starts = np.concatenate(([0], b_ends[:-1]))\n",
    "wavs = [wav[start:end] for start, end, in zip(b_starts, b_ends)]\n",
    "breaks = [np.zeros(int(0.15 * Synthesizer.sample_rate))] * len(breaks)\n",
    "wav = np.concatenate([i for w, b in zip(wavs, breaks) for i in (w, b)])\n",
    "wav = wav / np.abs(wav).max() * 0.97"
   ]
  },
  {
   "cell_type": "code",
   "execution_count": null,
   "metadata": {},
   "outputs": [],
   "source": [
    "Audio(wav,rate=Synthesizer.sample_rate)"
   ]
  },
  {
   "cell_type": "code",
   "execution_count": null,
   "metadata": {},
   "outputs": [],
   "source": [
    "neural_wav = infer_waveform(spec)\n",
    "Audio(wav,rate=Synthesizer.sample_rate)"
   ]
  },
  {
   "cell_type": "code",
   "execution_count": null,
   "metadata": {},
   "outputs": [],
   "source": [
    "ori_wav = np.load('datasets/vctk/synthesizer/audio/audio-' + name + '.npy')\n",
    "Audio(ori_wav, rate=16000)"
   ]
  },
  {
   "cell_type": "code",
   "execution_count": null,
   "metadata": {},
   "outputs": [],
   "source": []
  }
 ],
 "metadata": {
  "kernelspec": {
   "display_name": "Python (rtvc)",
   "language": "python",
   "name": "rtvc"
  },
  "language_info": {
   "codemirror_mode": {
    "name": "ipython",
    "version": 3
   },
   "file_extension": ".py",
   "mimetype": "text/x-python",
   "name": "python",
   "nbconvert_exporter": "python",
   "pygments_lexer": "ipython3",
   "version": "3.6.9"
  }
 },
 "nbformat": 4,
 "nbformat_minor": 2
}